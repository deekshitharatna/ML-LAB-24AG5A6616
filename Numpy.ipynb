{
  "nbformat": 4,
  "nbformat_minor": 0,
  "metadata": {
    "colab": {
      "provenance": [],
      "authorship_tag": "ABX9TyPIRayyt3Z1YaPO2w5SCjU4",
      "include_colab_link": true
    },
    "kernelspec": {
      "name": "python3",
      "display_name": "Python 3"
    },
    "language_info": {
      "name": "python"
    }
  },
  "cells": [
    {
      "cell_type": "markdown",
      "metadata": {
        "id": "view-in-github",
        "colab_type": "text"
      },
      "source": [
        "<a href=\"https://colab.research.google.com/github/deekshitharatna/ML-LAB-24AG5A6616/blob/main/Numpy.ipynb\" target=\"_parent\"><img src=\"https://colab.research.google.com/assets/colab-badge.svg\" alt=\"Open In Colab\"/></a>"
      ]
    },
    {
      "cell_type": "markdown",
      "source": [],
      "metadata": {
        "id": "eoQksPbyMG5c"
      }
    },
    {
      "cell_type": "markdown",
      "source": [
        "NumPy"
      ],
      "metadata": {
        "id": "nndbjx6BMIhx"
      }
    },
    {
      "cell_type": "markdown",
      "source": [
        "\n",
        "NumPy is a Python library created in 2005 that performs numerical calculations. It is generally used for working with arrays."
      ],
      "metadata": {
        "id": "z-UwCcAjMJbJ"
      }
    },
    {
      "cell_type": "markdown",
      "source": [
        "Why Use Numpy"
      ],
      "metadata": {
        "id": "2L_Y3oBsMUEY"
      }
    },
    {
      "cell_type": "markdown",
      "source": [
        "\n",
        "\n",
        "In Python, we use lists to work with arrays. But when it comes to large array operations, Python lists are not optimized enough.\n",
        "\n",
        "Numpy arrays are optimized for complex mathematical and statistical operations. Operations on NumPy are up to 50x faster than iterating over native Python lists using loops."
      ],
      "metadata": {
        "id": "Vg_n_HUBMWIB"
      }
    },
    {
      "cell_type": "markdown",
      "source": [
        "Import NumPy in Python"
      ],
      "metadata": {
        "id": "PmSmSHtqMaUB"
      }
    },
    {
      "cell_type": "code",
      "source": [
        "\n",
        "import numpy as np"
      ],
      "metadata": {
        "id": "9SWYqKyDMc_x"
      },
      "execution_count": 2,
      "outputs": []
    },
    {
      "cell_type": "markdown",
      "source": [
        "NumPy Array Creation"
      ],
      "metadata": {
        "id": "dFyPpIg4MnS5"
      }
    },
    {
      "cell_type": "code",
      "source": [
        "list1 = [2, 4, 6, 8]"
      ],
      "metadata": {
        "id": "MoFnUuFYMoDB"
      },
      "execution_count": 3,
      "outputs": []
    },
    {
      "cell_type": "code",
      "source": [
        "# create numpy array using list1\n",
        "array1 = np.array(list1)\n",
        "print(array1)\n"
      ],
      "metadata": {
        "colab": {
          "base_uri": "https://localhost:8080/"
        },
        "id": "TjA4EefxMsgx",
        "outputId": "905810ff-4717-4acd-e97a-ce998c15de64"
      },
      "execution_count": 4,
      "outputs": [
        {
          "output_type": "stream",
          "name": "stdout",
          "text": [
            "[2 4 6 8]\n"
          ]
        }
      ]
    },
    {
      "cell_type": "markdown",
      "source": [
        "Instead of creating a list and using the list variable with the np.array() function, we can directly pass list elements as an argument."
      ],
      "metadata": {
        "id": "GyKzwxBoM5Bp"
      }
    },
    {
      "cell_type": "code",
      "source": [
        "# create numpy array using a list\n",
        "array1 = np.array([2, 4, 6, 8])\n",
        "print(array1)"
      ],
      "metadata": {
        "colab": {
          "base_uri": "https://localhost:8080/"
        },
        "id": "djt6ii13M55x",
        "outputId": "dc2ba79c-9847-4bfa-962f-b0c6fefd5fb1"
      },
      "execution_count": 5,
      "outputs": [
        {
          "output_type": "stream",
          "name": "stdout",
          "text": [
            "[2 4 6 8]\n"
          ]
        }
      ]
    },
    {
      "cell_type": "markdown",
      "source": [
        "Create a 2-D NumPy Array"
      ],
      "metadata": {
        "id": "JYVHxGqTM_Cp"
      }
    },
    {
      "cell_type": "code",
      "source": [
        "# create a 2D array with 2 rows and 4 columns\n",
        "array1 = np.array([[1, 2, 3, 4],\n",
        "                  [5, 6, 7, 8]])\n",
        "\n",
        "print(array1)"
      ],
      "metadata": {
        "colab": {
          "base_uri": "https://localhost:8080/"
        },
        "id": "WCY_tzS8M_-R",
        "outputId": "484557bc-23d5-4faa-def0-876ca4284a2c"
      },
      "execution_count": 6,
      "outputs": [
        {
          "output_type": "stream",
          "name": "stdout",
          "text": [
            "[[1 2 3 4]\n",
            " [5 6 7 8]]\n"
          ]
        }
      ]
    },
    {
      "cell_type": "markdown",
      "source": [
        "Create a 3-D NumPy Array"
      ],
      "metadata": {
        "id": "jbEv5ICqNFE4"
      }
    },
    {
      "cell_type": "code",
      "source": [
        "\n",
        "# create a 3D array with 2 \"slices\", each of 3 rows and 4 columns\n",
        "array1 = np.array([[[1, 2, 3, 4],\n",
        "                [5, 6, 7, 8],\n",
        "                [9, 10, 11, 12]],\n",
        "\n",
        "                [[13, 14, 15, 16],\n",
        "                 [17, 18, 19, 20],\n",
        "                 [21, 22, 23, 24]]])\n",
        "\n",
        "print(array1)"
      ],
      "metadata": {
        "colab": {
          "base_uri": "https://localhost:8080/"
        },
        "id": "lgYzuU5MNFmU",
        "outputId": "aa8286c9-5c51-4c9d-8fb2-98b3f72382f7"
      },
      "execution_count": 7,
      "outputs": [
        {
          "output_type": "stream",
          "name": "stdout",
          "text": [
            "[[[ 1  2  3  4]\n",
            "  [ 5  6  7  8]\n",
            "  [ 9 10 11 12]]\n",
            "\n",
            " [[13 14 15 16]\n",
            "  [17 18 19 20]\n",
            "  [21 22 23 24]]]\n"
          ]
        }
      ]
    },
    {
      "cell_type": "markdown",
      "source": [
        "Check Data Type of a NumPy Array"
      ],
      "metadata": {
        "id": "OxNr5f-VNK9h"
      }
    },
    {
      "cell_type": "code",
      "source": [
        "#create an array of integers\n",
        "array1 = np.array([2, 4, 6])"
      ],
      "metadata": {
        "id": "wG-NcPwuNLtR"
      },
      "execution_count": 12,
      "outputs": []
    },
    {
      "cell_type": "code",
      "source": [
        "# check the data type of array1\n",
        "print(array1.dtype)"
      ],
      "metadata": {
        "colab": {
          "base_uri": "https://localhost:8080/"
        },
        "id": "ORHevkU9OAFR",
        "outputId": "a3ba9eab-47ae-4bcb-9c7e-c66e7888aa5c"
      },
      "execution_count": 13,
      "outputs": [
        {
          "output_type": "stream",
          "name": "stdout",
          "text": [
            "int64\n"
          ]
        }
      ]
    },
    {
      "cell_type": "markdown",
      "source": [
        "Check dimensions of an Numpy Array"
      ],
      "metadata": {
        "id": "pDLslwhYODA5"
      }
    },
    {
      "cell_type": "code",
      "source": [
        "print(array1.ndim)"
      ],
      "metadata": {
        "colab": {
          "base_uri": "https://localhost:8080/"
        },
        "id": "FVW1SEVyODso",
        "outputId": "7d32acaa-4114-4473-c2fa-2913ae288af6"
      },
      "execution_count": 14,
      "outputs": [
        {
          "output_type": "stream",
          "name": "stdout",
          "text": [
            "1\n"
          ]
        }
      ]
    },
    {
      "cell_type": "markdown",
      "source": [
        "\n",
        "Check Size of Numpy array"
      ],
      "metadata": {
        "id": "-AaP76fXOLHB"
      }
    },
    {
      "cell_type": "code",
      "source": [
        "print(array1.size)"
      ],
      "metadata": {
        "colab": {
          "base_uri": "https://localhost:8080/"
        },
        "id": "qdL53RFhOLyh",
        "outputId": "c4061d97-16ad-42de-a6f8-f7985ae6eb11"
      },
      "execution_count": 15,
      "outputs": [
        {
          "output_type": "stream",
          "name": "stdout",
          "text": [
            "3\n"
          ]
        }
      ]
    },
    {
      "cell_type": "markdown",
      "source": [
        "NumPy Array shape Attribute"
      ],
      "metadata": {
        "id": "VEr7otVhOT2R"
      }
    },
    {
      "cell_type": "markdown",
      "source": [
        "In NumPy, the shape attribute returns a tuple of integers that gives the size of the array in each dimension."
      ],
      "metadata": {
        "id": "TDq-e_2VOUmh"
      }
    },
    {
      "cell_type": "code",
      "source": [
        "array1 = np.array([[1, 2, 3],\n",
        "                [6, 7, 8]])"
      ],
      "metadata": {
        "id": "EejGgHqpOc8p"
      },
      "execution_count": 16,
      "outputs": []
    },
    {
      "cell_type": "code",
      "source": [
        "print(array1.shape)"
      ],
      "metadata": {
        "colab": {
          "base_uri": "https://localhost:8080/"
        },
        "id": "_6GdEfBqOhbx",
        "outputId": "41432794-e515-48bd-af0d-6bb91dfe7b36"
      },
      "execution_count": 17,
      "outputs": [
        {
          "output_type": "stream",
          "name": "stdout",
          "text": [
            "(2, 3)\n"
          ]
        }
      ]
    },
    {
      "cell_type": "markdown",
      "source": [
        "NumPy Array itemsize Attribute"
      ],
      "metadata": {
        "id": "0Ux5QW8dOpGh"
      }
    },
    {
      "cell_type": "code",
      "source": [
        "# create a default 1-D array of integers\n",
        "array1 = np.array([6, 7, 8, 10, 13])\n",
        "\n",
        "# create a 1-D array of 32-bit integers\n",
        "array2 = np.array([6, 7, 8, 10, 13], dtype=np.int32)\n",
        "\n",
        "# use of itemsize to determine size of each array element of array1 and array2\n",
        "print(array1.itemsize)\n",
        "print(array2.itemsize)"
      ],
      "metadata": {
        "colab": {
          "base_uri": "https://localhost:8080/"
        },
        "id": "dICTDrPPOqXa",
        "outputId": "15e7d14d-e3e9-4ada-980b-f204a3eb0b3b"
      },
      "execution_count": 18,
      "outputs": [
        {
          "output_type": "stream",
          "name": "stdout",
          "text": [
            "8\n",
            "4\n"
          ]
        }
      ]
    },
    {
      "cell_type": "markdown",
      "source": [
        "NumPy Array data Attribute"
      ],
      "metadata": {
        "id": "dIhQDoR3Ova5"
      }
    },
    {
      "cell_type": "code",
      "source": [
        "array1 = np.array([1, 3, 5, 7, 9])\n",
        "\n",
        "# access numpy elements using index\n",
        "print(array1[0])\n",
        "print(array1[2])\n",
        "print(array1[4])"
      ],
      "metadata": {
        "colab": {
          "base_uri": "https://localhost:8080/"
        },
        "id": "L0yglC4POv55",
        "outputId": "d313d991-f180-4376-c05e-71bed699e4b6"
      },
      "execution_count": 19,
      "outputs": [
        {
          "output_type": "stream",
          "name": "stdout",
          "text": [
            "1\n",
            "5\n",
            "9\n"
          ]
        }
      ]
    },
    {
      "cell_type": "markdown",
      "source": [
        "Modify Array Elements Using Index"
      ],
      "metadata": {
        "id": "34rmfre_OzqQ"
      }
    },
    {
      "cell_type": "code",
      "source": [
        "\n",
        "array1[1]=10\n",
        "print(array1)"
      ],
      "metadata": {
        "colab": {
          "base_uri": "https://localhost:8080/"
        },
        "id": "_5hyO3HHO0Rh",
        "outputId": "bcde2df2-45d8-4eb5-9d51-2b15b21ff7da"
      },
      "execution_count": 20,
      "outputs": [
        {
          "output_type": "stream",
          "name": "stdout",
          "text": [
            "[ 1 10  5  7  9]\n"
          ]
        }
      ]
    },
    {
      "cell_type": "markdown",
      "source": [
        "2-D NumPy Array Indexing"
      ],
      "metadata": {
        "id": "4RRBaYfUO30J"
      }
    },
    {
      "cell_type": "code",
      "source": [
        "\n",
        "# create a 2D array\n",
        "array1 = np.array([[1, 3, 5, 7],\n",
        "                       [9, 11, 13, 15],\n",
        "                       [2, 4, 6, 8]])\n",
        "\n",
        "\n",
        "# access the element at the second row and fourth column\n",
        "element1 = array1[1, 3]  # returns 15\n",
        "print(\"4th Element at 2nd Row:\",element1)\n",
        "\n",
        "# access the element at the first row and second column\n",
        "element2 = array1[0, 1]  # returns 3\n",
        "print(\"2nd Element at First Row:\",element2)"
      ],
      "metadata": {
        "colab": {
          "base_uri": "https://localhost:8080/"
        },
        "id": "r_IMrhwtO4dp",
        "outputId": "c0585406-92ca-44aa-f252-a7081def05ec"
      },
      "execution_count": 21,
      "outputs": [
        {
          "output_type": "stream",
          "name": "stdout",
          "text": [
            "4th Element at 2nd Row: 15\n",
            "2nd Element at First Row: 3\n"
          ]
        }
      ]
    },
    {
      "cell_type": "markdown",
      "source": [
        "NumPy Statistical Functions"
      ],
      "metadata": {
        "id": "jjoGNq92O8aB"
      }
    },
    {
      "cell_type": "code",
      "source": [
        "\n",
        "# create a 1D array with 5 elements\n",
        "array1 = np.array([1, 2, 3, 4, 5])\n",
        "\n",
        "# calculate the median\n",
        "median = np.median(array1)\n",
        "\n",
        "print(median)"
      ],
      "metadata": {
        "colab": {
          "base_uri": "https://localhost:8080/"
        },
        "id": "607XA_l6O9pR",
        "outputId": "aef16b54-aa4b-42d1-e2dc-b4880f77d496"
      },
      "execution_count": 22,
      "outputs": [
        {
          "output_type": "stream",
          "name": "stdout",
          "text": [
            "3.0\n"
          ]
        }
      ]
    },
    {
      "cell_type": "markdown",
      "source": [
        "Compute Mean Using NumPy"
      ],
      "metadata": {
        "id": "3V9YU3o0PCBK"
      }
    },
    {
      "cell_type": "code",
      "source": [
        "\n",
        "# create a numpy array\n",
        "marks = np.array([76, 78, 81, 66, 85])\n",
        "\n",
        "# compute the mean of marks\n",
        "mean_marks = np.mean(marks)\n",
        "\n",
        "print(mean_marks)"
      ],
      "metadata": {
        "colab": {
          "base_uri": "https://localhost:8080/"
        },
        "id": "7B4dTRuSPCsp",
        "outputId": "0f4ec7f6-0723-414f-9847-43e2b5895697"
      },
      "execution_count": 23,
      "outputs": [
        {
          "output_type": "stream",
          "name": "stdout",
          "text": [
            "77.2\n"
          ]
        }
      ]
    },
    {
      "cell_type": "markdown",
      "source": [
        "Standard Deviation of NumPy Array"
      ],
      "metadata": {
        "id": "MjQVa2fyPF5p"
      }
    },
    {
      "cell_type": "code",
      "source": [
        "\n",
        "# create a numpy array\n",
        "marks = np.array([76, 78, 81, 66, 85])\n",
        "\n",
        "# compute the standard deviation of marks\n",
        "std_marks = np.std(marks)\n",
        "print(std_marks)"
      ],
      "metadata": {
        "colab": {
          "base_uri": "https://localhost:8080/"
        },
        "id": "PfgeO11tPGWR",
        "outputId": "7952e7ed-d5a0-4b85-acca-03311d5712e4"
      },
      "execution_count": 24,
      "outputs": [
        {
          "output_type": "stream",
          "name": "stdout",
          "text": [
            "6.368673331236263\n"
          ]
        }
      ]
    },
    {
      "cell_type": "markdown",
      "source": [
        "Numpy Percentile"
      ],
      "metadata": {
        "id": "wyKXjaypPJi5"
      }
    },
    {
      "cell_type": "code",
      "source": [
        "# create a numpy array\n",
        "marks = np.array([76, 78, 81, 66, 85])\n",
        "\n",
        "# compute the standard deviation of marks\n",
        "std_marks = np.percentile(marks,50)\n",
        "print(std_marks)"
      ],
      "metadata": {
        "colab": {
          "base_uri": "https://localhost:8080/"
        },
        "id": "l0ZY4hS1PKGR",
        "outputId": "8369632d-39df-4810-fd7b-8f046fff2f9d"
      },
      "execution_count": 25,
      "outputs": [
        {
          "output_type": "stream",
          "name": "stdout",
          "text": [
            "78.0\n"
          ]
        }
      ]
    },
    {
      "cell_type": "markdown",
      "source": [
        "Numpy min"
      ],
      "metadata": {
        "id": "IP5-Bd6UPNf4"
      }
    },
    {
      "cell_type": "code",
      "source": [
        "\n",
        "# create a numpy array\n",
        "marks = np.array([76, 78, 81, 66, 85])\n",
        "\n",
        "# compute the standard deviation of marks\n",
        "std_marks = np.min(marks)\n",
        "print(std_marks)"
      ],
      "metadata": {
        "colab": {
          "base_uri": "https://localhost:8080/"
        },
        "id": "3cpZxxADPOBZ",
        "outputId": "72cc000f-40d3-4d57-830a-5284d8cf4b1e"
      },
      "execution_count": 26,
      "outputs": [
        {
          "output_type": "stream",
          "name": "stdout",
          "text": [
            "66\n"
          ]
        }
      ]
    },
    {
      "cell_type": "markdown",
      "source": [
        "\n",
        "Numpy max"
      ],
      "metadata": {
        "id": "uAmaRFbEPRuJ"
      }
    },
    {
      "cell_type": "code",
      "source": [
        "\n",
        "# create a numpy array\n",
        "marks = np.array([76, 78, 81, 66, 85])\n",
        "\n",
        "# compute the standard deviation of marks\n",
        "std_marks = np.max(marks)\n",
        "print(std_marks)"
      ],
      "metadata": {
        "colab": {
          "base_uri": "https://localhost:8080/"
        },
        "id": "wMYBVDM7PTjR",
        "outputId": "d51fbdaf-5c07-49da-c637-b2c4953359c1"
      },
      "execution_count": 27,
      "outputs": [
        {
          "output_type": "stream",
          "name": "stdout",
          "text": [
            "85\n"
          ]
        }
      ]
    }
  ]
}